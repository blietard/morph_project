{
 "cells": [
  {
   "cell_type": "markdown",
   "id": "5ce06523-efc7-4c98-a0ef-e7705d1a0f5d",
   "metadata": {},
   "source": [
    "### Importing libraries"
   ]
  },
  {
   "cell_type": "code",
   "execution_count": 1,
   "id": "bd5b6ee2-d1b8-42d1-9cc9-8b8ec01b1720",
   "metadata": {},
   "outputs": [],
   "source": [
    "from modules.stemmer import *\n",
    "from modules.ngrams_extractor import *\n",
    "from modules.assembler import *\n",
    "import time"
   ]
  },
  {
   "cell_type": "code",
   "execution_count": 2,
   "id": "b6aacf9a-8aaa-4264-acac-dc278525302f",
   "metadata": {},
   "outputs": [],
   "source": [
    "rng = np.random.default_rng(seed=42)"
   ]
  },
  {
   "cell_type": "markdown",
   "id": "ab57e363-64d2-45e8-a59c-bbac87b0ca6f",
   "metadata": {},
   "source": [
    "### Selecting a language and loading the data"
   ]
  },
  {
   "cell_type": "markdown",
   "id": "dd735767-b7c1-4d03-a36d-b9af94c33909",
   "metadata": {},
   "source": [
    "#### Loading the training data"
   ]
  },
  {
   "cell_type": "code",
   "execution_count": 3,
   "id": "760d167b-ec9b-4c00-93c3-a4382dde4513",
   "metadata": {},
   "outputs": [
    {
     "data": {
      "text/plain": [
       "805"
      ]
     },
     "execution_count": 3,
     "metadata": {},
     "output_type": "execute_result"
    }
   ],
   "source": [
    "trn_file_path = 'task0-data/DEVELOPMENT-LANGUAGES/oto-manguean/zpv.trn'\n",
    "with open(trn_file_path, encoding='utf8') as f:\n",
    "    trn_data = f.read().split('\\n')\n",
    "    trn_data = [sent.split('\\t') for sent in trn_data]\n",
    "    trn_data.pop(-1)\n",
    "trn_data = np.array(trn_data)\n",
    "len(trn_data)"
   ]
  },
  {
   "cell_type": "markdown",
   "id": "b420dfcd-8140-483d-b72d-21a213d4e8f8",
   "metadata": {},
   "source": [
    "#### Loading the validation data"
   ]
  },
  {
   "cell_type": "code",
   "execution_count": 4,
   "id": "ecaae53c-cd37-425b-b8b7-39e2680345ea",
   "metadata": {},
   "outputs": [
    {
     "data": {
      "text/plain": [
       "113"
      ]
     },
     "execution_count": 4,
     "metadata": {},
     "output_type": "execute_result"
    }
   ],
   "source": [
    "val_file_path = 'task0-data/DEVELOPMENT-LANGUAGES/oto-manguean/zpv.dev'\n",
    "with open(val_file_path, encoding='utf8') as f:\n",
    "    val_data = f.read().split('\\n')\n",
    "    val_data = [sent.split('\\t') for sent in val_data]\n",
    "    val_data.pop(-1)\n",
    "val_data = np.array(val_data)\n",
    "# permutation = rng.permutation(len(val_data)).astype(int)\n",
    "# val_data = val_data[permutation][:100]\n",
    "len(val_data)"
   ]
  },
  {
   "cell_type": "markdown",
   "id": "a2603785-098a-4a3c-9c92-870d9cbb70ef",
   "metadata": {},
   "source": [
    "#### Loading the test data"
   ]
  },
  {
   "cell_type": "code",
   "execution_count": 5,
   "id": "876a7dc3-2f30-459b-9e71-e5ead0c329eb",
   "metadata": {},
   "outputs": [
    {
     "data": {
      "text/plain": [
       "228"
      ]
     },
     "execution_count": 5,
     "metadata": {},
     "output_type": "execute_result"
    }
   ],
   "source": [
    "tst_file_path = 'task0-data/DEVELOPMENT-LANGUAGES/oto-manguean/zpv.tst'\n",
    "with open(tst_file_path, encoding='utf8') as f:\n",
    "    tst_data = f.read().split('\\n')\n",
    "    tst_data = [sent.split('\\t') for sent in tst_data]\n",
    "    tst_data.pop(-1)\n",
    "tst_data = np.array(tst_data)\n",
    "#tst_data = tst_data[:1000]\n",
    "len(tst_data)"
   ]
  },
  {
   "cell_type": "markdown",
   "id": "9bd4a86a-4984-4c88-9a12-6fcf3701f484",
   "metadata": {},
   "source": [
    "### Optimizing the hyper-parameters on the validation set"
   ]
  },
  {
   "cell_type": "code",
   "execution_count": 6,
   "id": "b51c5fab-219e-4a3c-89ce-9d8361599cbf",
   "metadata": {},
   "outputs": [
    {
     "name": "stdout",
     "output_type": "stream",
     "text": [
      "10\n",
      "20\n",
      "30\n",
      "40\n",
      "50\n",
      "60\n",
      "70\n",
      "Best mean distance: 0.8495575221238938 with (3, 3, 0.1)\n",
      "Best accuracy:      0.584070796460177 with (3, 3, 0.1)\n",
      "Duration of the grid-search: 52.004246950149536\n"
     ]
    }
   ],
   "source": [
    "n_neighbors_values = [1,2,3,4,5]\n",
    "niter_values = [3,4,5]\n",
    "threshold_values = [0.1,0.3,0.4,0.5,0.6]\n",
    "\n",
    "perf = {}\n",
    "min_dist = np.inf\n",
    "min_dist_params = None\n",
    "max_acc = 0\n",
    "max_acc_params = None\n",
    "\n",
    "i = 0\n",
    "\n",
    "start = time.time()\n",
    "\n",
    "for n_neighbors in n_neighbors_values:\n",
    "    for niter in niter_values:\n",
    "        for threshold in threshold_values:\n",
    "            \n",
    "            #print(n_neighbors,niter,threshold)\n",
    "            \n",
    "            i +=1\n",
    "            if i % 10 == 0: print(i)\n",
    "            \n",
    "            # Fitting the Stemmer\n",
    "            stemmer = Stemmer(n_neighbors)\n",
    "            stemmer.fit(trn_data)\n",
    "\n",
    "            grouped_stems = stemmer.grouped_stems\n",
    "            \n",
    "            # Fitting the NgramsExtractor\n",
    "            extractor = NgramsExtractor()\n",
    "            extractor.fit(trn_data,niter=niter)\n",
    "\n",
    "            ngrams_per_attr_group = extractor.get_ngrams_per_attr_group(threshold)\n",
    "            \n",
    "            # Fitting the Assembler\n",
    "            assembler = Assembler()\n",
    "            assembler.fit(grouped_stems, ngrams_per_attr_group)\n",
    "            \n",
    "            # Evaluation of the performance on the validation set\n",
    "            mean_dist = 0\n",
    "            accuracy = 0\n",
    "            \n",
    "            for lemma, final, attr_grp in val_data:\n",
    "                \n",
    "                lemma_grp, stem = stemmer.predict(lemma)\n",
    "                \n",
    "                try:\n",
    "                    pred = assembler.predict(stem, lemma_grp, attr_grp)\n",
    "                except:\n",
    "                    pred = \"\"\n",
    "\n",
    "                if pred == final:\n",
    "                    accuracy += 1\n",
    "\n",
    "                dist = enchant.utils.levenshtein(pred,final)\n",
    "                mean_dist += dist\n",
    "            \n",
    "            accuracy /= len(val_data)\n",
    "            mean_dist /= len(val_data)\n",
    "            \n",
    "            if accuracy > max_acc:\n",
    "                max_acc = accuracy\n",
    "                max_acc_params = (n_neighbors,niter,threshold)\n",
    "            \n",
    "            if mean_dist < min_dist:\n",
    "                min_dist = mean_dist\n",
    "                min_dist_params = (n_neighbors,niter,threshold)\n",
    "                \n",
    "            perf[(n_neighbors,niter,threshold)] = (accuracy, mean_dist)\n",
    "\n",
    "end = time.time()\n",
    "duration = end - start\n",
    "                \n",
    "print('Best mean distance: {} with {}'.format(min_dist,min_dist_params))\n",
    "print('Best accuracy:      {} with {}'.format(max_acc,max_acc_params))\n",
    "print('Duration of the grid-search: {}'.format(duration))"
   ]
  },
  {
   "cell_type": "code",
   "execution_count": 8,
   "id": "fa0a534b-0551-407e-b350-dd82a4158e40",
   "metadata": {},
   "outputs": [],
   "source": [
    "#perf"
   ]
  }
 ],
 "metadata": {
  "kernelspec": {
   "display_name": "Python 3 (ipykernel)",
   "language": "python",
   "name": "python3"
  },
  "language_info": {
   "codemirror_mode": {
    "name": "ipython",
    "version": 3
   },
   "file_extension": ".py",
   "mimetype": "text/x-python",
   "name": "python",
   "nbconvert_exporter": "python",
   "pygments_lexer": "ipython3",
   "version": "3.8.10"
  }
 },
 "nbformat": 4,
 "nbformat_minor": 5
}
