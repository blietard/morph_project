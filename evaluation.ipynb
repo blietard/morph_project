{
 "cells": [
  {
   "cell_type": "markdown",
   "id": "2fd36595-1266-4e78-8037-3e824525f19d",
   "metadata": {},
   "source": [
    "### Importing libraries"
   ]
  },
  {
   "cell_type": "code",
   "execution_count": 1,
   "id": "79f430bb-1895-459d-8ed2-19158b4e56d4",
   "metadata": {},
   "outputs": [],
   "source": [
    "from modules.stemmer import *\n",
    "from modules.ngrams_extractor import *\n",
    "from modules.assembler import *"
   ]
  },
  {
   "cell_type": "markdown",
   "id": "36b4bf03-a8f0-4563-898b-1820bc67a027",
   "metadata": {},
   "source": [
    "### Loading data\n",
    "\n",
    "#### Loading the training data"
   ]
  },
  {
   "cell_type": "code",
   "execution_count": 2,
   "id": "326aa217-6189-4b7b-a69e-6a3f53b4573f",
   "metadata": {},
   "outputs": [
    {
     "data": {
      "text/plain": [
       "1123"
      ]
     },
     "execution_count": 2,
     "metadata": {},
     "output_type": "execute_result"
    }
   ],
   "source": [
    "trn_file_path = 'task0-data/SURPRISE-LANGUAGES/Uto-Aztecan/ood.trn'\n",
    "with open(trn_file_path, encoding='utf8') as f:\n",
    "    trn_data = f.read().split('\\n')\n",
    "    trn_data = [sent.split('\\t') for sent in trn_data]\n",
    "    trn_data.pop(-1)\n",
    "len(trn_data)"
   ]
  },
  {
   "cell_type": "markdown",
   "id": "730214b0-e8a2-469c-afaa-8f810f6f9341",
   "metadata": {},
   "source": [
    "#### Loading validation data"
   ]
  },
  {
   "cell_type": "code",
   "execution_count": 3,
   "id": "c7bb7d2d-df91-49fb-8ed5-d7432a9848a3",
   "metadata": {},
   "outputs": [
    {
     "data": {
      "text/plain": [
       "160"
      ]
     },
     "execution_count": 3,
     "metadata": {},
     "output_type": "execute_result"
    }
   ],
   "source": [
    "val_file_path = 'task0-data/SURPRISE-LANGUAGES/Uto-Aztecan/ood.dev'\n",
    "with open(val_file_path, encoding='utf8') as f:\n",
    "    val_data = f.read().split('\\n')\n",
    "    val_data = [sent.split('\\t') for sent in val_data]\n",
    "    val_data.pop(-1)\n",
    "len(val_data)"
   ]
  },
  {
   "cell_type": "markdown",
   "id": "3bb6afd9-3c16-4132-809a-cd943f2bdc59",
   "metadata": {},
   "source": [
    "#### Loading test data"
   ]
  },
  {
   "cell_type": "code",
   "execution_count": 4,
   "id": "d65f2668-3b38-437f-84ea-597777cae12f",
   "metadata": {},
   "outputs": [
    {
     "data": {
      "text/plain": [
       "314"
      ]
     },
     "execution_count": 4,
     "metadata": {},
     "output_type": "execute_result"
    }
   ],
   "source": [
    "tst_file_path = 'task0-data/GOLD-TEST/ood.tst'\n",
    "with open(tst_file_path, encoding='utf8') as f:\n",
    "    tst_data = f.read().split('\\n')\n",
    "    tst_data = [sent.split('\\t') for sent in tst_data]\n",
    "    tst_data.pop(-1)\n",
    "#tst_data = tst_data[:1000]\n",
    "len(tst_data)"
   ]
  },
  {
   "cell_type": "markdown",
   "id": "f8fa3e97-1570-41cc-b067-744c4f83fcb0",
   "metadata": {},
   "source": [
    "### Fitting the stemmer"
   ]
  },
  {
   "cell_type": "code",
   "execution_count": 5,
   "id": "fb7c89a3-28b3-42aa-8d73-547ba2b3bd91",
   "metadata": {},
   "outputs": [],
   "source": [
    "n_neighbors = 2\n",
    "stemmer = Stemmer(n_neighbors)\n",
    "stemmer.fit(trn_data)\n",
    "\n",
    "grouped_stems = stemmer.grouped_stems"
   ]
  },
  {
   "cell_type": "markdown",
   "id": "d58d5d43-f91e-4e2b-b05b-2d4b66b90bde",
   "metadata": {},
   "source": [
    "### Fitting the NgramsExtractor"
   ]
  },
  {
   "cell_type": "code",
   "execution_count": 6,
   "id": "da0cd253-0543-4e1b-9281-10a67e757c29",
   "metadata": {},
   "outputs": [],
   "source": [
    "extractor = NgramsExtractor()\n",
    "extractor.fit(trn_data,niter=3)\n",
    "threshold = 0.1\n",
    "\n",
    "ngrams_per_attr_group = extractor.get_ngrams_per_attr_group(threshold)"
   ]
  },
  {
   "cell_type": "markdown",
   "id": "f85ed74a-03e1-4e15-8124-b8d70fefb063",
   "metadata": {},
   "source": [
    "### Fitting the Assembler"
   ]
  },
  {
   "cell_type": "code",
   "execution_count": 7,
   "id": "8c2fbc70-cd7c-4a10-8080-24c70beacfc7",
   "metadata": {},
   "outputs": [],
   "source": [
    "assembler = Assembler()\n",
    "assembler.fit(grouped_stems, ngrams_per_attr_group)"
   ]
  },
  {
   "cell_type": "markdown",
   "id": "edcb9bf0-be4b-4d10-bd91-9213715fbb72",
   "metadata": {},
   "source": [
    "### Evaluation on the test set"
   ]
  },
  {
   "cell_type": "code",
   "execution_count": 8,
   "id": "ebb19618-47a7-4338-a1ab-7e81dd09a5ee",
   "metadata": {},
   "outputs": [
    {
     "name": "stdout",
     "output_type": "stream",
     "text": [
      "100\n",
      "200\n",
      "300\n"
     ]
    },
    {
     "data": {
      "text/plain": [
       "(0.40445859872611467, 1.2484076433121019, 6, 6.987261146496815)"
      ]
     },
     "execution_count": 8,
     "metadata": {},
     "output_type": "execute_result"
    }
   ],
   "source": [
    "precision = 0\n",
    "mean_dist = 0\n",
    "max_dist = 0\n",
    "mean_len = 0\n",
    "preds = []\n",
    "i= 0\n",
    "for lemma, final, attr_grp in tst_data:\n",
    "    \n",
    "    i += 1\n",
    "    if (i % 100) == 0: print(i)\n",
    "    \n",
    "    lemma_grp, stem = stemmer.predict(lemma)\n",
    "    \n",
    "    try:\n",
    "        pred = assembler.predict(stem, lemma_grp, attr_grp)\n",
    "    except:\n",
    "        pred = \"\"\n",
    "        \n",
    "    preds.append(pred)\n",
    "    \n",
    "    if pred == final:\n",
    "        precision += 1\n",
    "        \n",
    "    mean_len += len(final) \n",
    "    \n",
    "    dist = enchant.utils.levenshtein(pred,final)\n",
    "    #print(pred,final,pred==final,dist)\n",
    "    mean_dist += dist\n",
    "    \n",
    "    if dist > max_dist:\n",
    "        max_dist = dist\n",
    "    \n",
    "precision /= len(tst_data)\n",
    "mean_dist /= len(tst_data)\n",
    "mean_len /= len(tst_data)\n",
    "precision, mean_dist, max_dist, mean_len"
   ]
  },
  {
   "cell_type": "code",
   "execution_count": 9,
   "id": "ebca9a67-01a3-440d-88ca-32de5dbd9cf3",
   "metadata": {},
   "outputs": [],
   "source": [
    "f = open(\"outputs-non-neural/ood.out\", \"a\")\n",
    "for (l, final ,tag), pred in zip(tst_data,preds):\n",
    "    f.write(\"\\t\".join([l,pred,tag]) + \"\\n\")\n",
    "f.close()"
   ]
  },
  {
   "cell_type": "code",
   "execution_count": null,
   "id": "37cc6790-ee73-4e58-b7e1-4d94d1820cc6",
   "metadata": {},
   "outputs": [],
   "source": []
  }
 ],
 "metadata": {
  "kernelspec": {
   "display_name": "Python 3 (ipykernel)",
   "language": "python",
   "name": "python3"
  },
  "language_info": {
   "codemirror_mode": {
    "name": "ipython",
    "version": 3
   },
   "file_extension": ".py",
   "mimetype": "text/x-python",
   "name": "python",
   "nbconvert_exporter": "python",
   "pygments_lexer": "ipython3",
   "version": "3.8.10"
  }
 },
 "nbformat": 4,
 "nbformat_minor": 5
}
